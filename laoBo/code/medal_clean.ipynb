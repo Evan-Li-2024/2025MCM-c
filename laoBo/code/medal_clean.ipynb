{
 "cells": [
  {
   "cell_type": "code",
   "execution_count": 40,
   "metadata": {},
   "outputs": [],
   "source": [
    "import pandas as pd\n",
    "import numpy as np\n",
    "import matplotlib.pyplot as plt\n",
    "import seaborn as sns"
   ]
  },
  {
   "cell_type": "code",
   "execution_count": 41,
   "metadata": {},
   "outputs": [],
   "source": [
    "data_dic_c = pd.read_csv(r\"D:\\VScode\\AllCode\\美赛\\2025\\data\\2025_Problem_C_Data\\2025_Problem_C_Data\\data_dictionary.csv\",encoding = \"Windows-1252\")\n",
    "data_ath_c = pd.read_csv(r\"D:\\VScode\\AllCode\\美赛\\2025\\data\\2025_Problem_C_Data\\2025_Problem_C_Data\\summerOly_athletes.csv\")\n",
    "data_hos_c = pd.read_csv(r\"D:\\VScode\\AllCode\\美赛\\2025\\data\\2025_Problem_C_Data\\2025_Problem_C_Data\\summerOly_hosts.csv\")\n",
    "data_med_c = pd.read_csv(r\"D:\\VScode\\AllCode\\美赛\\2025\\data\\2025_Problem_C_Data\\2025_Problem_C_Data\\summerOly_medal_counts.csv\")\n",
    "data_pro_c = pd.read_csv(r\"D:\\VScode\\AllCode\\美赛\\2025\\data\\2025_Problem_C_Data\\2025_Problem_C_Data\\summerOly_programs.csv\",encoding = \"Windows-1252\")\n",
    "noc_region = pd.read_csv(r\"D:\\VScode\\AllCode\\美赛\\2025\\code\\extra_data\\noc_regions.csv\")"
   ]
  },
  {
   "cell_type": "code",
   "execution_count": 42,
   "metadata": {},
   "outputs": [],
   "source": [
    "#统一格式\n",
    "data_med_c[\"NOC\"] = data_med_c[\"NOC\"].str.replace(\"\\xa0\",\"\",regex = False)\n",
    "#先将已解体且无后代，混合团体删除\n",
    "data_med_c = data_med_c[~data_med_c[\"NOC\"].isin([\"Mixed team\",\"Russian Empire\",\"Ceylon\",\"United Team of Germany\",\" British West Indies\",\"In\"Independent Olympic Athletes\"dependent Olympic Participants\",\"FR Yugoslavia\",,\"British West Indies\"\t])]"
   ]
  },
  {
   "cell_type": "code",
   "execution_count": 43,
   "metadata": {},
   "outputs": [
    {
     "name": "stdout",
     "output_type": "stream",
     "text": [
      "21\n"
     ]
    }
   ],
   "source": [
    "noc_region.head()\n",
    "#提取出指代多个国家的noc，转化为字典\n",
    "mNOC_row = noc_region[noc_region[\"notes\"].notnull()]\n",
    "mNOC_notes_dict = dict(zip(mNOC_row['notes'], mNOC_row['NOC']))\n",
    "print(len(mNOC_notes_dict))\n",
    "#单个指代\n",
    "NOC_row = noc_region[noc_region[\"notes\"].isnull()]\n",
    "NOC_row_dict = dict(zip(NOC_row['region'], NOC_row['NOC']))\n",
    "\n",
    "#合并map\n",
    "mNOC_notes_dict.update(NOC_row_dict)"
   ]
  },
  {
   "cell_type": "code",
   "execution_count": 44,
   "metadata": {},
   "outputs": [],
   "source": [
    "#缺失的map补充\n",
    "extra_dic = {\n",
    "    'United States' : \"USA\", \n",
    "    'Great Britain': \"GBR\",\n",
    "    #'Russian Empire',直接删掉\n",
    "       'Czechoslovakia':\"TCH\", \n",
    "    # 'Ceylon',直接删掉\n",
    "         'Soviet Union' :\"URS\",\n",
    "       #'United Team of Germany',直接删掉\n",
    "       'Formosa':\"USA\", \n",
    "       #'British West Indies',\n",
    "       'East Germany':\"GDR\", \n",
    "       'West Germany':\"FRG\", \n",
    "       'Chinese Taipei':\"TPE\", \n",
    "       'Unified Team' :\"EUN\" ,\n",
    "       #'Independent Olympic Participants':\"\", \n",
    "       #'FR Yugoslavia',\n",
    "       #'Independent Olympic Athletes',\n",
    "         'ROC':\"ROC\", \n",
    "         'North Macedonia':\"MKD\",\n",
    "       'Cabo Verde':\"CPV\"\n",
    "    \n",
    "}\n",
    "mNOC_notes_dict.update(extra_dic)"
   ]
  },
  {
   "cell_type": "code",
   "execution_count": 45,
   "metadata": {},
   "outputs": [
    {
     "name": "stdout",
     "output_type": "stream",
     "text": [
      "11368\n"
     ]
    }
   ],
   "source": [
    "medal = data_med_c.copy()\n",
    "medal[\"RNOC\"] = medal[\"NOC\"].map(mNOC_notes_dict)\n",
    "print(medal.size)"
   ]
  },
  {
   "cell_type": "code",
   "execution_count": 46,
   "metadata": {},
   "outputs": [
    {
     "data": {
      "text/html": [
       "<div>\n",
       "<style scoped>\n",
       "    .dataframe tbody tr th:only-of-type {\n",
       "        vertical-align: middle;\n",
       "    }\n",
       "\n",
       "    .dataframe tbody tr th {\n",
       "        vertical-align: top;\n",
       "    }\n",
       "\n",
       "    .dataframe thead th {\n",
       "        text-align: right;\n",
       "    }\n",
       "</style>\n",
       "<table border=\"1\" class=\"dataframe\">\n",
       "  <thead>\n",
       "    <tr style=\"text-align: right;\">\n",
       "      <th></th>\n",
       "      <th>Rank</th>\n",
       "      <th>NOC</th>\n",
       "      <th>Gold</th>\n",
       "      <th>Silver</th>\n",
       "      <th>Bronze</th>\n",
       "      <th>Total</th>\n",
       "      <th>Year</th>\n",
       "      <th>RNOC</th>\n",
       "    </tr>\n",
       "  </thead>\n",
       "  <tbody>\n",
       "  </tbody>\n",
       "</table>\n",
       "</div>"
      ],
      "text/plain": [
       "Empty DataFrame\n",
       "Columns: [Rank, NOC, Gold, Silver, Bronze, Total, Year, RNOC]\n",
       "Index: []"
      ]
     },
     "execution_count": 46,
     "metadata": {},
     "output_type": "execute_result"
    }
   ],
   "source": [
    "missing_row = medal[medal[\"RNOC\"].isnull()]\n",
    "missing_row.head()"
   ]
  },
  {
   "cell_type": "code",
   "execution_count": 47,
   "metadata": {},
   "outputs": [],
   "source": [
    "medal.to_csv(r\"D:\\VScode\\AllCode\\美赛\\2025\\code\\clean_data\\medal_NOC_clean.csv\")"
   ]
  }
 ],
 "metadata": {
  "kernelspec": {
   "display_name": "deep_learning",
   "language": "python",
   "name": "python3"
  },
  "language_info": {
   "codemirror_mode": {
    "name": "ipython",
    "version": 3
   },
   "file_extension": ".py",
   "mimetype": "text/x-python",
   "name": "python",
   "nbconvert_exporter": "python",
   "pygments_lexer": "ipython3",
   "version": "3.9.19"
  }
 },
 "nbformat": 4,
 "nbformat_minor": 2
}
